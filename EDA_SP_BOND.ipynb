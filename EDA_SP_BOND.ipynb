{
  "nbformat": 4,
  "nbformat_minor": 0,
  "metadata": {
    "colab": {
      "name": "EDA_SP_BOND.ipynb",
      "provenance": [],
      "collapsed_sections": [],
      "authorship_tag": "ABX9TyN2CGhP8gWA52g/BibzjZFP",
      "include_colab_link": true
    },
    "kernelspec": {
      "name": "python3",
      "display_name": "Python 3"
    }
  },
  "cells": [
    {
      "cell_type": "markdown",
      "metadata": {
        "id": "view-in-github",
        "colab_type": "text"
      },
      "source": [
        "<a href=\"https://colab.research.google.com/github/arnaldocavalcanti/eda-sp-bond/blob/main/EDA_SP_BOND.ipynb\" target=\"_parent\"><img src=\"https://colab.research.google.com/assets/colab-badge.svg\" alt=\"Open In Colab\"/></a>"
      ]
    },
    {
      "cell_type": "markdown",
      "metadata": {
        "id": "MPuAADGLkE-K"
      },
      "source": [
        "**EDA - DATASET - SP BOND**\n",
        "\n",
        "**Campos:**\n",
        "\n",
        "Valor Garantia \n",
        "Prazo (em dias)\n",
        "Custo (Prêmio)"
      ]
    },
    {
      "cell_type": "code",
      "metadata": {
        "id": "IykpBiBMD_8E"
      },
      "source": [
        "import numpy as np\n",
        "import pandas as pd\n",
        "import os"
      ],
      "execution_count": 99,
      "outputs": []
    },
    {
      "cell_type": "code",
      "metadata": {
        "colab": {
          "base_uri": "https://localhost:8080/",
          "height": 52
        },
        "id": "hpiM1LnkERiA",
        "outputId": "d081f5e1-38ce-48dc-a5ef-0cfa14314a3d"
      },
      "source": [
        "# view directory from uploads colab\n",
        "import os\n",
        "!ls\n",
        "os.getcwd()\n"
      ],
      "execution_count": 102,
      "outputs": [
        {
          "output_type": "stream",
          "text": [
            "dataset_sp_bond_tratado.csv  gdrive  sample_data\n"
          ],
          "name": "stdout"
        },
        {
          "output_type": "execute_result",
          "data": {
            "application/vnd.google.colaboratory.intrinsic+json": {
              "type": "string"
            },
            "text/plain": [
              "'/content'"
            ]
          },
          "metadata": {
            "tags": []
          },
          "execution_count": 102
        }
      ]
    },
    {
      "cell_type": "code",
      "metadata": {
        "colab": {
          "base_uri": "https://localhost:8080/",
          "height": 0
        },
        "id": "PU_kyvz9Eaci",
        "outputId": "6060dc15-e933-4176-eaed-a8461c5d10fd"
      },
      "source": [
        "from google.colab import drive\n",
        "drive.mount('/content/gdrive')"
      ],
      "execution_count": 103,
      "outputs": [
        {
          "output_type": "stream",
          "text": [
            "Drive already mounted at /content/gdrive; to attempt to forcibly remount, call drive.mount(\"/content/gdrive\", force_remount=True).\n"
          ],
          "name": "stdout"
        }
      ]
    },
    {
      "cell_type": "code",
      "metadata": {
        "colab": {
          "base_uri": "https://localhost:8080/",
          "height": 0
        },
        "id": "MrJLhGLbjrgF",
        "outputId": "7173b4b5-5d9b-46f6-9a12-e553c2e47050"
      },
      "source": [
        "!cd gdrive/MyDrive/\n",
        "!ls gdrive/MyDrive/"
      ],
      "execution_count": 104,
      "outputs": [
        {
          "output_type": "stream",
          "text": [
            " 99turns\n",
            " All-App-Inventor-Projects.zip\n",
            "'Aniversariantes '\n",
            "'Aniversário Veri [CONVITE - Aniversário Veridiana Tomé].gform'\n",
            "'Aniversário Veri.gsheet'\n",
            "'App Escola.html'\n",
            "'APP FESTA.html'\n",
            "'APP FESTA.png'\n",
            "'App Oasis.html'\n",
            "'App Venda AnjoTintas.html'\n",
            "'Arnaldo Cavalcante'\n",
            " ateste.gdoc\n",
            "'cadastro - analista de requisitos (1).gsheet'\n",
            "'cadastro - analista de requisitos.gsheet'\n",
            " ClassificadosApp.html\n",
            "'Colab Notebooks'\n",
            "'Contas janeiro.gsheet'\n",
            "'Cópia de SaaS Financial Model 3.0.gsheet'\n",
            "'Copy of IMG_1150.jpg'\n",
            "'CTE (1).html'\n",
            " CTE.html\n",
            " dataset_lucas.csv\n",
            " DatasetSPBond.csv\n",
            "'Diagrama SindicoNET.html'\n",
            " Dimob.gdoc\n",
            " Documentos\n",
            "'Documento sem título.gdoc'\n",
            " FGV-GE-52\n",
            " formuladeexcel.gsheet\n",
            "'Formulário sem título (1).gform'\n",
            "'Formulário sem título (2).gform'\n",
            "'Formulário sem título.gform'\n",
            "'Fotos Eventos'\n",
            " FVG-GE52-Marketing\n",
            "'Google Buzz'\n",
            " GrupoADN\n",
            " img_flick_8\n",
            "'Lista de Telefones'\n",
            "'MBA FGV Gestão Empresarial'\n",
            "'Pesquisa Agosto 2019.gform'\n",
            "'Pesquisa de Satisfação.gform'\n",
            "'Pesquisa de Satisfação (respostas).gsheet'\n",
            "'Pesquisa Projeto FiapOne.gform'\n",
            "'Pesquisa Setembro 2019.gform'\n",
            "'Planejamento - Devolus Vistoria - LeadLovers.gdoc'\n",
            "'PlanoCerto 12 (1) (1).gsheet'\n",
            "'Plano Criação chatbot.gsheet'\n",
            "'Plano de gerenciamento dos riscos.gsheet'\n",
            " PMP\n",
            " Procedimentos\n",
            "'Reclamação   Sugestão [Form].gform'\n",
            "'Reclamação   Sugestão.gsheet'\n",
            "'Relação de Placas - Locação.gmap'\n",
            "'Roteiro Paris 2nd dia.gsheet'\n",
            " Seller.html\n",
            " senha_sala.gdoc\n",
            " syntax.txt\n",
            " Takeout\n",
            "'Teste Excel.gsheet'\n",
            "'Teste Excel.xlsx'\n",
            " Utilitários\n",
            "'Viagem Paris '\n"
          ],
          "name": "stdout"
        }
      ]
    },
    {
      "cell_type": "code",
      "metadata": {
        "id": "_PxCImObEqp5"
      },
      "source": [
        "import matplotlib.pyplot as plt\n",
        "import seaborn as sns\n",
        "%matplotlib inline"
      ],
      "execution_count": 105,
      "outputs": []
    },
    {
      "cell_type": "code",
      "metadata": {
        "colab": {
          "base_uri": "https://localhost:8080/",
          "height": 204
        },
        "id": "fgWeCFf2E4_7",
        "outputId": "c992ff59-f1d6-4dc5-abae-1c03a16f5f99"
      },
      "source": [
        "filename = 'gdrive/MyDrive/dataset_lucas.csv'\n",
        "#colunas = ['Garantia', 'vigência', 'prêmio']\n",
        "df = pd.read_csv(filename, sep=';')\n",
        "df = df.loc[:, ~df.columns.str.contains('^Unnamed')]\n",
        "df.head()"
      ],
      "execution_count": 106,
      "outputs": [
        {
          "output_type": "execute_result",
          "data": {
            "text/html": [
              "<div>\n",
              "<style scoped>\n",
              "    .dataframe tbody tr th:only-of-type {\n",
              "        vertical-align: middle;\n",
              "    }\n",
              "\n",
              "    .dataframe tbody tr th {\n",
              "        vertical-align: top;\n",
              "    }\n",
              "\n",
              "    .dataframe thead th {\n",
              "        text-align: right;\n",
              "    }\n",
              "</style>\n",
              "<table border=\"1\" class=\"dataframe\">\n",
              "  <thead>\n",
              "    <tr style=\"text-align: right;\">\n",
              "      <th></th>\n",
              "      <th>Valor Garantia</th>\n",
              "      <th>Prazo de Vig̻ncia</th>\n",
              "      <th>Custo</th>\n",
              "    </tr>\n",
              "  </thead>\n",
              "  <tbody>\n",
              "    <tr>\n",
              "      <th>0</th>\n",
              "      <td>244839,00</td>\n",
              "      <td>1095</td>\n",
              "      <td>12353,20</td>\n",
              "    </tr>\n",
              "    <tr>\n",
              "      <th>1</th>\n",
              "      <td>148221,00</td>\n",
              "      <td>1095</td>\n",
              "      <td>7201,04</td>\n",
              "    </tr>\n",
              "    <tr>\n",
              "      <th>2</th>\n",
              "      <td>123180,00</td>\n",
              "      <td>1095</td>\n",
              "      <td>5995,32</td>\n",
              "    </tr>\n",
              "    <tr>\n",
              "      <th>3</th>\n",
              "      <td>37116,77</td>\n",
              "      <td>214</td>\n",
              "      <td>413,47</td>\n",
              "    </tr>\n",
              "    <tr>\n",
              "      <th>4</th>\n",
              "      <td>634105,35</td>\n",
              "      <td>1143</td>\n",
              "      <td>31934,77</td>\n",
              "    </tr>\n",
              "  </tbody>\n",
              "</table>\n",
              "</div>"
            ],
            "text/plain": [
              "  Valor Garantia  Prazo de Vig̻ncia     Custo\n",
              "0      244839,00               1095  12353,20\n",
              "1      148221,00               1095   7201,04\n",
              "2      123180,00               1095   5995,32\n",
              "3       37116,77                214    413,47\n",
              "4      634105,35               1143  31934,77"
            ]
          },
          "metadata": {
            "tags": []
          },
          "execution_count": 106
        }
      ]
    },
    {
      "cell_type": "code",
      "metadata": {
        "colab": {
          "base_uri": "https://localhost:8080/",
          "height": 0
        },
        "id": "P5kJrsoxPzQG",
        "outputId": "f9440832-ddf7-4a05-c489-fa0f84270a62"
      },
      "source": [
        "df.dtypes"
      ],
      "execution_count": 107,
      "outputs": [
        {
          "output_type": "execute_result",
          "data": {
            "text/plain": [
              "Valor Garantia       object\n",
              "Prazo de Vig̻ncia     int64\n",
              "Custo                object\n",
              "dtype: object"
            ]
          },
          "metadata": {
            "tags": []
          },
          "execution_count": 107
        }
      ]
    },
    {
      "cell_type": "code",
      "metadata": {
        "colab": {
          "base_uri": "https://localhost:8080/",
          "height": 359
        },
        "id": "PE0Kg03WFWiD",
        "outputId": "6997993a-7262-47b7-ae33-b71302925d08"
      },
      "source": [
        "# Ajustando os valores das colunas Valor Garantia e Custo\n",
        "df['Custo'] = df['Custo'].str.replace(' ', '', regex=False)\n",
        "df['Custo'] = df['Custo'].str.replace(',','.', regex=False)\n",
        "\n",
        "df['Valor Garantia'] = df['Valor Garantia'].str.replace(' ', '', regex=False)\n",
        "df['Valor Garantia'] = df['Valor Garantia'].str.replace(',','.', regex=False)\n",
        "\n",
        "df.head(10)\n"
      ],
      "execution_count": 108,
      "outputs": [
        {
          "output_type": "execute_result",
          "data": {
            "text/html": [
              "<div>\n",
              "<style scoped>\n",
              "    .dataframe tbody tr th:only-of-type {\n",
              "        vertical-align: middle;\n",
              "    }\n",
              "\n",
              "    .dataframe tbody tr th {\n",
              "        vertical-align: top;\n",
              "    }\n",
              "\n",
              "    .dataframe thead th {\n",
              "        text-align: right;\n",
              "    }\n",
              "</style>\n",
              "<table border=\"1\" class=\"dataframe\">\n",
              "  <thead>\n",
              "    <tr style=\"text-align: right;\">\n",
              "      <th></th>\n",
              "      <th>Valor Garantia</th>\n",
              "      <th>Prazo de Vig̻ncia</th>\n",
              "      <th>Custo</th>\n",
              "    </tr>\n",
              "  </thead>\n",
              "  <tbody>\n",
              "    <tr>\n",
              "      <th>0</th>\n",
              "      <td>244839.00</td>\n",
              "      <td>1095</td>\n",
              "      <td>12353.20</td>\n",
              "    </tr>\n",
              "    <tr>\n",
              "      <th>1</th>\n",
              "      <td>148221.00</td>\n",
              "      <td>1095</td>\n",
              "      <td>7201.04</td>\n",
              "    </tr>\n",
              "    <tr>\n",
              "      <th>2</th>\n",
              "      <td>123180.00</td>\n",
              "      <td>1095</td>\n",
              "      <td>5995.32</td>\n",
              "    </tr>\n",
              "    <tr>\n",
              "      <th>3</th>\n",
              "      <td>37116.77</td>\n",
              "      <td>214</td>\n",
              "      <td>413.47</td>\n",
              "    </tr>\n",
              "    <tr>\n",
              "      <th>4</th>\n",
              "      <td>634105.35</td>\n",
              "      <td>1143</td>\n",
              "      <td>31934.77</td>\n",
              "    </tr>\n",
              "    <tr>\n",
              "      <th>5</th>\n",
              "      <td>70841.67</td>\n",
              "      <td>600</td>\n",
              "      <td>1933.26</td>\n",
              "    </tr>\n",
              "    <tr>\n",
              "      <th>6</th>\n",
              "      <td>68730.00</td>\n",
              "      <td>600</td>\n",
              "      <td>1877.54</td>\n",
              "    </tr>\n",
              "    <tr>\n",
              "      <th>7</th>\n",
              "      <td>240000.00</td>\n",
              "      <td>730</td>\n",
              "      <td>8168.20</td>\n",
              "    </tr>\n",
              "    <tr>\n",
              "      <th>8</th>\n",
              "      <td>1074.00</td>\n",
              "      <td>365</td>\n",
              "      <td>235.00</td>\n",
              "    </tr>\n",
              "    <tr>\n",
              "      <th>9</th>\n",
              "      <td>3090.00</td>\n",
              "      <td>60</td>\n",
              "      <td>335.00</td>\n",
              "    </tr>\n",
              "  </tbody>\n",
              "</table>\n",
              "</div>"
            ],
            "text/plain": [
              "  Valor Garantia  Prazo de Vig̻ncia     Custo\n",
              "0      244839.00               1095  12353.20\n",
              "1      148221.00               1095   7201.04\n",
              "2      123180.00               1095   5995.32\n",
              "3       37116.77                214    413.47\n",
              "4      634105.35               1143  31934.77\n",
              "5       70841.67                600   1933.26\n",
              "6       68730.00                600   1877.54\n",
              "7      240000.00                730   8168.20\n",
              "8        1074.00                365    235.00\n",
              "9        3090.00                 60    335.00"
            ]
          },
          "metadata": {
            "tags": []
          },
          "execution_count": 108
        }
      ]
    },
    {
      "cell_type": "code",
      "metadata": {
        "colab": {
          "base_uri": "https://localhost:8080/",
          "height": 204
        },
        "id": "0Gm-QbnENkaV",
        "outputId": "9b7ab3ca-e5bf-4db8-f6b2-19039a2db1d8"
      },
      "source": [
        "\n",
        "df2 = pd.DataFrame(df)\n",
        "df2['Custo'] = pd.to_numeric(df2['Custo'], errors='coerce', downcast='float')\n",
        "df2['Valor Garantia'] = pd.to_numeric(df2['Valor Garantia'], errors='coerce', downcast='float')\n",
        "\n",
        "df2.head()"
      ],
      "execution_count": 109,
      "outputs": [
        {
          "output_type": "execute_result",
          "data": {
            "text/html": [
              "<div>\n",
              "<style scoped>\n",
              "    .dataframe tbody tr th:only-of-type {\n",
              "        vertical-align: middle;\n",
              "    }\n",
              "\n",
              "    .dataframe tbody tr th {\n",
              "        vertical-align: top;\n",
              "    }\n",
              "\n",
              "    .dataframe thead th {\n",
              "        text-align: right;\n",
              "    }\n",
              "</style>\n",
              "<table border=\"1\" class=\"dataframe\">\n",
              "  <thead>\n",
              "    <tr style=\"text-align: right;\">\n",
              "      <th></th>\n",
              "      <th>Valor Garantia</th>\n",
              "      <th>Prazo de Vig̻ncia</th>\n",
              "      <th>Custo</th>\n",
              "    </tr>\n",
              "  </thead>\n",
              "  <tbody>\n",
              "    <tr>\n",
              "      <th>0</th>\n",
              "      <td>244839.000000</td>\n",
              "      <td>1095</td>\n",
              "      <td>12353.200195</td>\n",
              "    </tr>\n",
              "    <tr>\n",
              "      <th>1</th>\n",
              "      <td>148221.000000</td>\n",
              "      <td>1095</td>\n",
              "      <td>7201.040039</td>\n",
              "    </tr>\n",
              "    <tr>\n",
              "      <th>2</th>\n",
              "      <td>123180.000000</td>\n",
              "      <td>1095</td>\n",
              "      <td>5995.319824</td>\n",
              "    </tr>\n",
              "    <tr>\n",
              "      <th>3</th>\n",
              "      <td>37116.769531</td>\n",
              "      <td>214</td>\n",
              "      <td>413.470001</td>\n",
              "    </tr>\n",
              "    <tr>\n",
              "      <th>4</th>\n",
              "      <td>634105.375000</td>\n",
              "      <td>1143</td>\n",
              "      <td>31934.769531</td>\n",
              "    </tr>\n",
              "  </tbody>\n",
              "</table>\n",
              "</div>"
            ],
            "text/plain": [
              "   Valor Garantia  Prazo de Vig̻ncia         Custo\n",
              "0   244839.000000               1095  12353.200195\n",
              "1   148221.000000               1095   7201.040039\n",
              "2   123180.000000               1095   5995.319824\n",
              "3    37116.769531                214    413.470001\n",
              "4   634105.375000               1143  31934.769531"
            ]
          },
          "metadata": {
            "tags": []
          },
          "execution_count": 109
        }
      ]
    },
    {
      "cell_type": "code",
      "metadata": {
        "colab": {
          "base_uri": "https://localhost:8080/",
          "height": 0
        },
        "id": "o7GCWLbbSStl",
        "outputId": "053f6e27-785e-469c-b5fa-8d6b2290fef5"
      },
      "source": [
        "df2.dtypes"
      ],
      "execution_count": 110,
      "outputs": [
        {
          "output_type": "execute_result",
          "data": {
            "text/plain": [
              "Valor Garantia       float32\n",
              "Prazo de Vig̻ncia      int64\n",
              "Custo                float32\n",
              "dtype: object"
            ]
          },
          "metadata": {
            "tags": []
          },
          "execution_count": 110
        }
      ]
    },
    {
      "cell_type": "code",
      "metadata": {
        "colab": {
          "base_uri": "https://localhost:8080/",
          "height": 0
        },
        "id": "AFZeRiXkKYs5",
        "outputId": "511ab089-428e-4943-914d-734a6f90526d"
      },
      "source": [
        "df2.shape"
      ],
      "execution_count": 111,
      "outputs": [
        {
          "output_type": "execute_result",
          "data": {
            "text/plain": [
              "(9205, 3)"
            ]
          },
          "metadata": {
            "tags": []
          },
          "execution_count": 111
        }
      ]
    },
    {
      "cell_type": "code",
      "metadata": {
        "colab": {
          "base_uri": "https://localhost:8080/",
          "height": 0
        },
        "id": "XAZqZJHVKeqe",
        "outputId": "faba90bb-d41d-4c17-f196-fb6417e32c34"
      },
      "source": [
        "df2.describe"
      ],
      "execution_count": 112,
      "outputs": [
        {
          "output_type": "execute_result",
          "data": {
            "text/plain": [
              "<bound method NDFrame.describe of       Valor Garantia  Prazo de Vig̻ncia         Custo\n",
              "0      244839.000000               1095  12353.200195\n",
              "1      148221.000000               1095   7201.040039\n",
              "2      123180.000000               1095   5995.319824\n",
              "3       37116.769531                214    413.470001\n",
              "4      634105.375000               1143  31934.769531\n",
              "...              ...                ...           ...\n",
              "9200     2686.000000                 67    273.000000\n",
              "9201     9979.580078                150    479.559998\n",
              "9202     3400.419922                293    272.970001\n",
              "9203   143699.406250                334   1488.969971\n",
              "9204     2043.810059                 62    273.000000\n",
              "\n",
              "[9205 rows x 3 columns]>"
            ]
          },
          "metadata": {
            "tags": []
          },
          "execution_count": 112
        }
      ]
    },
    {
      "cell_type": "code",
      "metadata": {
        "colab": {
          "base_uri": "https://localhost:8080/",
          "height": 0
        },
        "id": "EaIpklFyLim5",
        "outputId": "4d91d131-d39b-408c-8684-547255e8a60e"
      },
      "source": [
        "df2.isnull().sum(axis = 1)\n"
      ],
      "execution_count": 113,
      "outputs": [
        {
          "output_type": "execute_result",
          "data": {
            "text/plain": [
              "0       0\n",
              "1       0\n",
              "2       0\n",
              "3       0\n",
              "4       0\n",
              "       ..\n",
              "9200    0\n",
              "9201    0\n",
              "9202    0\n",
              "9203    0\n",
              "9204    0\n",
              "Length: 9205, dtype: int64"
            ]
          },
          "metadata": {
            "tags": []
          },
          "execution_count": 113
        }
      ]
    },
    {
      "cell_type": "code",
      "metadata": {
        "id": "cYo-8Lu3MAT6"
      },
      "source": [
        "def missing_zero_values_table(df):\n",
        "        zero_val = (df == 0.00).astype(int).sum(axis=0)\n",
        "        mis_val = df.isnull().sum()\n",
        "        mis_val_percent = 100 * df.isnull().sum() / len(df)\n",
        "        mz_table = pd.concat([zero_val, mis_val, mis_val_percent], axis=1)\n",
        "        mz_table = mz_table.rename(\n",
        "        columns = {0 : 'Zero Values', 1 : 'Missing Values', 2 : '% of Total Values'})\n",
        "        mz_table['Total Zero Missing Values'] = mz_table['Zero Values'] + mz_table['Missing Values']\n",
        "        mz_table['% Total Zero Missing Values'] = 100 * mz_table['Total Zero Missing Values'] / len(df)\n",
        "        mz_table['Data Type'] = df.dtypes\n",
        "        mz_table = mz_table[\n",
        "            mz_table.iloc[:,1] != 0].sort_values(\n",
        "        '% of Total Values', ascending=False).round(1)\n",
        "        print (\"Your selected dataframe has \" + str(df.shape[1]) + \" columns and \" + str(df.shape[0]) + \" Rows.\\n\"      \n",
        "            \"There are \" + str(mz_table.shape[0]) +\n",
        "              \" columns that have missing values.\")\n",
        "#         mz_table.to_excel('D:/sampledata/missing_and_zero_values.xlsx', freeze_panes=(1,0), index = False)\n",
        "        return mz_table"
      ],
      "execution_count": 114,
      "outputs": []
    },
    {
      "cell_type": "code",
      "metadata": {
        "colab": {
          "base_uri": "https://localhost:8080/",
          "height": 83
        },
        "id": "GogwwLaNMGBB",
        "outputId": "ba31c4b6-9163-4b97-85fd-3510b3a58b7d"
      },
      "source": [
        "missing_zero_values_table(df2)"
      ],
      "execution_count": 115,
      "outputs": [
        {
          "output_type": "stream",
          "text": [
            "Your selected dataframe has 3 columns and 9205 Rows.\n",
            "There are 0 columns that have missing values.\n"
          ],
          "name": "stdout"
        },
        {
          "output_type": "execute_result",
          "data": {
            "text/html": [
              "<div>\n",
              "<style scoped>\n",
              "    .dataframe tbody tr th:only-of-type {\n",
              "        vertical-align: middle;\n",
              "    }\n",
              "\n",
              "    .dataframe tbody tr th {\n",
              "        vertical-align: top;\n",
              "    }\n",
              "\n",
              "    .dataframe thead th {\n",
              "        text-align: right;\n",
              "    }\n",
              "</style>\n",
              "<table border=\"1\" class=\"dataframe\">\n",
              "  <thead>\n",
              "    <tr style=\"text-align: right;\">\n",
              "      <th></th>\n",
              "      <th>Zero Values</th>\n",
              "      <th>Missing Values</th>\n",
              "      <th>% of Total Values</th>\n",
              "      <th>Total Zero Missing Values</th>\n",
              "      <th>% Total Zero Missing Values</th>\n",
              "      <th>Data Type</th>\n",
              "    </tr>\n",
              "  </thead>\n",
              "  <tbody>\n",
              "  </tbody>\n",
              "</table>\n",
              "</div>"
            ],
            "text/plain": [
              "Empty DataFrame\n",
              "Columns: [Zero Values, Missing Values, % of Total Values, Total Zero Missing Values, % Total Zero Missing Values, Data Type]\n",
              "Index: []"
            ]
          },
          "metadata": {
            "tags": []
          },
          "execution_count": 115
        }
      ]
    },
    {
      "cell_type": "code",
      "metadata": {
        "id": "ZPmuFFrsP2B1"
      },
      "source": [
        "#Para renomear as colunas caso necessário\n",
        "\n",
        "df2.rename(columns = {'Prazo de Vig̻ncia':'Prazo'}, inplace = True) "
      ],
      "execution_count": 116,
      "outputs": []
    },
    {
      "cell_type": "code",
      "metadata": {
        "colab": {
          "base_uri": "https://localhost:8080/",
          "height": 0
        },
        "id": "Gh-pQFo9SmrZ",
        "outputId": "55c313bb-0abf-4794-dca9-8342113465f2"
      },
      "source": [
        "df2.info()"
      ],
      "execution_count": 117,
      "outputs": [
        {
          "output_type": "stream",
          "text": [
            "<class 'pandas.core.frame.DataFrame'>\n",
            "RangeIndex: 9205 entries, 0 to 9204\n",
            "Data columns (total 3 columns):\n",
            " #   Column          Non-Null Count  Dtype  \n",
            "---  ------          --------------  -----  \n",
            " 0   Valor Garantia  9205 non-null   float32\n",
            " 1   Prazo           9205 non-null   int64  \n",
            " 2   Custo           9205 non-null   float32\n",
            "dtypes: float32(2), int64(1)\n",
            "memory usage: 144.0 KB\n"
          ],
          "name": "stdout"
        }
      ]
    },
    {
      "cell_type": "code",
      "metadata": {
        "colab": {
          "base_uri": "https://localhost:8080/",
          "height": 297
        },
        "id": "Dfmd1LG4SyXS",
        "outputId": "3a71733e-6b3c-4cc1-e580-3ec7d2779d22"
      },
      "source": [
        "df2.describe()\n"
      ],
      "execution_count": 118,
      "outputs": [
        {
          "output_type": "execute_result",
          "data": {
            "text/html": [
              "<div>\n",
              "<style scoped>\n",
              "    .dataframe tbody tr th:only-of-type {\n",
              "        vertical-align: middle;\n",
              "    }\n",
              "\n",
              "    .dataframe tbody tr th {\n",
              "        vertical-align: top;\n",
              "    }\n",
              "\n",
              "    .dataframe thead th {\n",
              "        text-align: right;\n",
              "    }\n",
              "</style>\n",
              "<table border=\"1\" class=\"dataframe\">\n",
              "  <thead>\n",
              "    <tr style=\"text-align: right;\">\n",
              "      <th></th>\n",
              "      <th>Valor Garantia</th>\n",
              "      <th>Prazo</th>\n",
              "      <th>Custo</th>\n",
              "    </tr>\n",
              "  </thead>\n",
              "  <tbody>\n",
              "    <tr>\n",
              "      <th>count</th>\n",
              "      <td>9.205000e+03</td>\n",
              "      <td>9205.000000</td>\n",
              "      <td>9205.000000</td>\n",
              "    </tr>\n",
              "    <tr>\n",
              "      <th>mean</th>\n",
              "      <td>9.401242e+04</td>\n",
              "      <td>307.632156</td>\n",
              "      <td>1866.147583</td>\n",
              "    </tr>\n",
              "    <tr>\n",
              "      <th>std</th>\n",
              "      <td>3.977004e+05</td>\n",
              "      <td>235.551877</td>\n",
              "      <td>7111.007812</td>\n",
              "    </tr>\n",
              "    <tr>\n",
              "      <th>min</th>\n",
              "      <td>1.145000e+01</td>\n",
              "      <td>0.000000</td>\n",
              "      <td>128.860001</td>\n",
              "    </tr>\n",
              "    <tr>\n",
              "      <th>25%</th>\n",
              "      <td>4.519590e+03</td>\n",
              "      <td>93.000000</td>\n",
              "      <td>278.859985</td>\n",
              "    </tr>\n",
              "    <tr>\n",
              "      <th>50%</th>\n",
              "      <td>1.233810e+04</td>\n",
              "      <td>361.000000</td>\n",
              "      <td>422.000000</td>\n",
              "    </tr>\n",
              "    <tr>\n",
              "      <th>75%</th>\n",
              "      <td>3.823233e+04</td>\n",
              "      <td>455.000000</td>\n",
              "      <td>1008.530029</td>\n",
              "    </tr>\n",
              "    <tr>\n",
              "      <th>max</th>\n",
              "      <td>1.000000e+07</td>\n",
              "      <td>4854.000000</td>\n",
              "      <td>372162.875000</td>\n",
              "    </tr>\n",
              "  </tbody>\n",
              "</table>\n",
              "</div>"
            ],
            "text/plain": [
              "       Valor Garantia        Prazo          Custo\n",
              "count    9.205000e+03  9205.000000    9205.000000\n",
              "mean     9.401242e+04   307.632156    1866.147583\n",
              "std      3.977004e+05   235.551877    7111.007812\n",
              "min      1.145000e+01     0.000000     128.860001\n",
              "25%      4.519590e+03    93.000000     278.859985\n",
              "50%      1.233810e+04   361.000000     422.000000\n",
              "75%      3.823233e+04   455.000000    1008.530029\n",
              "max      1.000000e+07  4854.000000  372162.875000"
            ]
          },
          "metadata": {
            "tags": []
          },
          "execution_count": 118
        }
      ]
    },
    {
      "cell_type": "code",
      "metadata": {
        "colab": {
          "base_uri": "https://localhost:8080/",
          "height": 142
        },
        "id": "BWRyvUDlS38T",
        "outputId": "f0da8191-c74d-4130-a4d5-1a227e475658"
      },
      "source": [
        "corr = df2.corr()\n",
        "corr"
      ],
      "execution_count": 119,
      "outputs": [
        {
          "output_type": "execute_result",
          "data": {
            "text/html": [
              "<div>\n",
              "<style scoped>\n",
              "    .dataframe tbody tr th:only-of-type {\n",
              "        vertical-align: middle;\n",
              "    }\n",
              "\n",
              "    .dataframe tbody tr th {\n",
              "        vertical-align: top;\n",
              "    }\n",
              "\n",
              "    .dataframe thead th {\n",
              "        text-align: right;\n",
              "    }\n",
              "</style>\n",
              "<table border=\"1\" class=\"dataframe\">\n",
              "  <thead>\n",
              "    <tr style=\"text-align: right;\">\n",
              "      <th></th>\n",
              "      <th>Valor Garantia</th>\n",
              "      <th>Prazo</th>\n",
              "      <th>Custo</th>\n",
              "    </tr>\n",
              "  </thead>\n",
              "  <tbody>\n",
              "    <tr>\n",
              "      <th>Valor Garantia</th>\n",
              "      <td>1.000000</td>\n",
              "      <td>0.210604</td>\n",
              "      <td>0.612862</td>\n",
              "    </tr>\n",
              "    <tr>\n",
              "      <th>Prazo</th>\n",
              "      <td>0.210604</td>\n",
              "      <td>1.000000</td>\n",
              "      <td>0.329512</td>\n",
              "    </tr>\n",
              "    <tr>\n",
              "      <th>Custo</th>\n",
              "      <td>0.612862</td>\n",
              "      <td>0.329512</td>\n",
              "      <td>1.000000</td>\n",
              "    </tr>\n",
              "  </tbody>\n",
              "</table>\n",
              "</div>"
            ],
            "text/plain": [
              "                Valor Garantia     Prazo     Custo\n",
              "Valor Garantia        1.000000  0.210604  0.612862\n",
              "Prazo                 0.210604  1.000000  0.329512\n",
              "Custo                 0.612862  0.329512  1.000000"
            ]
          },
          "metadata": {
            "tags": []
          },
          "execution_count": 119
        }
      ]
    },
    {
      "cell_type": "code",
      "metadata": {
        "colab": {
          "base_uri": "https://localhost:8080/",
          "height": 0
        },
        "id": "BTl2D-TpTBB0",
        "outputId": "f22fbb5b-a3fc-48e2-dcf1-dd4f0ba35c0d"
      },
      "source": [
        "df2.isnull().sum()\n"
      ],
      "execution_count": 120,
      "outputs": [
        {
          "output_type": "execute_result",
          "data": {
            "text/plain": [
              "Valor Garantia    0\n",
              "Prazo             0\n",
              "Custo             0\n",
              "dtype: int64"
            ]
          },
          "metadata": {
            "tags": []
          },
          "execution_count": 120
        }
      ]
    },
    {
      "cell_type": "code",
      "metadata": {
        "id": "7sbVOdHulvLl"
      },
      "source": [
        "df2.to_csv (r'/content/dataset_sp_bond_tratado.csv', index=False)"
      ],
      "execution_count": 28,
      "outputs": []
    },
    {
      "cell_type": "code",
      "metadata": {
        "colab": {
          "base_uri": "https://localhost:8080/",
          "height": 17
        },
        "id": "T2Z4kdWun0VO",
        "outputId": "311966fe-26a1-45f1-d1e8-fe1a50712a7b"
      },
      "source": [
        "from google.colab import files\n",
        "files.download('dataset_sp_bond_tratado.csv')"
      ],
      "execution_count": 29,
      "outputs": [
        {
          "output_type": "display_data",
          "data": {
            "application/javascript": [
              "\n",
              "    async function download(id, filename, size) {\n",
              "      if (!google.colab.kernel.accessAllowed) {\n",
              "        return;\n",
              "      }\n",
              "      const div = document.createElement('div');\n",
              "      const label = document.createElement('label');\n",
              "      label.textContent = `Downloading \"${filename}\": `;\n",
              "      div.appendChild(label);\n",
              "      const progress = document.createElement('progress');\n",
              "      progress.max = size;\n",
              "      div.appendChild(progress);\n",
              "      document.body.appendChild(div);\n",
              "\n",
              "      const buffers = [];\n",
              "      let downloaded = 0;\n",
              "\n",
              "      const channel = await google.colab.kernel.comms.open(id);\n",
              "      // Send a message to notify the kernel that we're ready.\n",
              "      channel.send({})\n",
              "\n",
              "      for await (const message of channel.messages) {\n",
              "        // Send a message to notify the kernel that we're ready.\n",
              "        channel.send({})\n",
              "        if (message.buffers) {\n",
              "          for (const buffer of message.buffers) {\n",
              "            buffers.push(buffer);\n",
              "            downloaded += buffer.byteLength;\n",
              "            progress.value = downloaded;\n",
              "          }\n",
              "        }\n",
              "      }\n",
              "      const blob = new Blob(buffers, {type: 'application/binary'});\n",
              "      const a = document.createElement('a');\n",
              "      a.href = window.URL.createObjectURL(blob);\n",
              "      a.download = filename;\n",
              "      div.appendChild(a);\n",
              "      a.click();\n",
              "      div.remove();\n",
              "    }\n",
              "  "
            ],
            "text/plain": [
              "<IPython.core.display.Javascript object>"
            ]
          },
          "metadata": {
            "tags": []
          }
        },
        {
          "output_type": "display_data",
          "data": {
            "application/javascript": [
              "download(\"download_26d0c001-f351-4309-9d2b-bc97baf2013d\", \"dataset_sp_bond_tratado.csv\", 171586)"
            ],
            "text/plain": [
              "<IPython.core.display.Javascript object>"
            ]
          },
          "metadata": {
            "tags": []
          }
        }
      ]
    },
    {
      "cell_type": "code",
      "metadata": {
        "colab": {
          "base_uri": "https://localhost:8080/",
          "height": 395
        },
        "id": "Us8R8KiHTRyR",
        "outputId": "81cc2853-e92f-47d7-960b-dfd1f0edacb0"
      },
      "source": [
        "plt.figure(figsize=(8,6))\n",
        "sns.heatmap(corr, annot = True)"
      ],
      "execution_count": 121,
      "outputs": [
        {
          "output_type": "execute_result",
          "data": {
            "text/plain": [
              "<matplotlib.axes._subplots.AxesSubplot at 0x7f0a7ac3f208>"
            ]
          },
          "metadata": {
            "tags": []
          },
          "execution_count": 121
        },
        {
          "output_type": "display_data",
          "data": {
            "image/png": "[encoded data removed]",
            "text/plain": [
              "<Figure size 576x432 with 2 Axes>"
            ]
          },
          "metadata": {
            "tags": [],
            "needs_background": "light"
          }
        }
      ]
    },
    {
      "cell_type": "code",
      "metadata": {
        "colab": {
          "base_uri": "https://localhost:8080/",
          "height": 487
        },
        "id": "FN0kAJq0TkFW",
        "outputId": "321d44a7-b708-4288-81b4-2207f2eec13d"
      },
      "source": [
        "fig, axes = plt.subplots(ncols = 3, figsize = (15,6), squeeze=True)\n",
        "plt.subplots_adjust(left=None, bottom=None, right=None, top=None, wspace=0.4, hspace=None)\n",
        "df2.plot(kind='scatter', x='Valor Garantia', y='Custo', ax=axes[0])\n",
        "df2.plot(kind='scatter', x='Prazo', y='Custo', ax=axes[1])\n",
        "df2.plot(kind='scatter', x='Prazo', y='Valor Garantia', ax=axes[2])"
      ],
      "execution_count": 122,
      "outputs": [
        {
          "output_type": "stream",
          "text": [
            "*c* argument looks like a single numeric RGB or RGBA sequence, which should be avoided as value-mapping will have precedence in case its length matches with *x* & *y*.  Please use the *color* keyword-argument or provide a 2-D array with a single row if you intend to specify the same RGB or RGBA value for all points.\n",
            "*c* argument looks like a single numeric RGB or RGBA sequence, which should be avoided as value-mapping will have precedence in case its length matches with *x* & *y*.  Please use the *color* keyword-argument or provide a 2-D array with a single row if you intend to specify the same RGB or RGBA value for all points.\n",
            "*c* argument looks like a single numeric RGB or RGBA sequence, which should be avoided as value-mapping will have precedence in case its length matches with *x* & *y*.  Please use the *color* keyword-argument or provide a 2-D array with a single row if you intend to specify the same RGB or RGBA value for all points.\n"
          ],
          "name": "stderr"
        },
        {
          "output_type": "execute_result",
          "data": {
            "text/plain": [
              "<matplotlib.axes._subplots.AxesSubplot at 0x7f0a7a942208>"
            ]
          },
          "metadata": {
            "tags": []
          },
          "execution_count": 122
        },
        {
          "output_type": "display_data",
          "data": {
            "image/png": "[encoded data removed]",
            "text/plain": [
              "<Figure size 1080x432 with 3 Axes>"
            ]
          },
          "metadata": {
            "tags": [],
            "needs_background": "light"
          }
        }
      ]
    },
    {
      "cell_type": "code",
      "metadata": {
        "colab": {
          "base_uri": "https://localhost:8080/",
          "height": 609
        },
        "id": "wuPO66eVVTHb",
        "outputId": "45c32da2-af33-4307-f623-927ec688fb10"
      },
      "source": [
        "fig, axes = plt.subplots(nrows = 2, ncols = 2, figsize = (15,10))\n",
        "\n",
        "df.plot(kind='hist', y='Valor Garantia', ax=axes[0][0], color = 'blue')\n",
        "df.plot(kind='hist', y='Prazo', ax=axes[0][1], color = 'orange')\n",
        "df.plot(kind='hist', y='Custo', ax=axes[1][0], color = 'red')"
      ],
      "execution_count": 123,
      "outputs": [
        {
          "output_type": "execute_result",
          "data": {
            "text/plain": [
              "<matplotlib.axes._subplots.AxesSubplot at 0x7f0a7a7d34e0>"
            ]
          },
          "metadata": {
            "tags": []
          },
          "execution_count": 123
        },
        {
          "output_type": "display_data",
          "data": {
            "image/png": "[encoded data removed]",
            "text/plain": [
              "<Figure size 1080x720 with 4 Axes>"
            ]
          },
          "metadata": {
            "tags": [],
            "needs_background": "light"
          }
        }
      ]
    },
    {
      "cell_type": "code",
      "metadata": {
        "colab": {
          "base_uri": "https://localhost:8080/",
          "height": 416
        },
        "id": "vEahpWRUdo_m",
        "outputId": "6a2773f9-9635-43c9-9567-1bfce2dce37e"
      },
      "source": [
        "palettes=['#EB5050','#3EA2FF']\n",
        "sns.set_palette(sns.color_palette(palettes))\n",
        "fig, axes = plt.subplots(ncols = 3, figsize = (15,6), squeeze=True)\n",
        "sns.scatterplot(x='Prazo', y='Custo', ax=axes[0], data=df2,hue='Prazo')\n",
        "sns.scatterplot(x='Prazo', y='Valor Garantia', ax=axes[1], data=df2,hue='Prazo')\n",
        "sns.scatterplot(x='Valor Garantia', y='Custo', ax=axes[2], data=df2,hue='Prazo')\n"
      ],
      "execution_count": 124,
      "outputs": [
        {
          "output_type": "execute_result",
          "data": {
            "text/plain": [
              "<matplotlib.axes._subplots.AxesSubplot at 0x7f0a7a6aeeb8>"
            ]
          },
          "metadata": {
            "tags": []
          },
          "execution_count": 124
        },
        {
          "output_type": "display_data",
          "data": {
            "image/png": "[encoded data removed]",
            "text/plain": [
              "<Figure size 1080x432 with 3 Axes>"
            ]
          },
          "metadata": {
            "tags": [],
            "needs_background": "light"
          }
        }
      ]
    },
    {
      "cell_type": "code",
      "metadata": {
        "colab": {
          "base_uri": "https://localhost:8080/",
          "height": 475
        },
        "id": "RnujGWqDkvQG",
        "outputId": "98d2f261-1eeb-4725-e9ed-a1dc465f0060"
      },
      "source": [
        "from scipy import stats\n",
        "from scipy.stats import norm\n",
        "fig =plt.figure(figsize=(18,6))\n",
        "plt.subplot(1,2,1)\n",
        "sns.distplot(df['Custo'], fit=norm)\n",
        "(mu,sigma)= norm.fit(df['Custo'])\n",
        "plt.legend(['For Normal dist. mean: {:.2f} | std: {:.2f}'.format(mu,sigma)])\n",
        "plt.ylabel('Frequency')\n",
        "plt.title('Distribuição do Custo')"
      ],
      "execution_count": 125,
      "outputs": [
        {
          "output_type": "stream",
          "text": [
            "/usr/local/lib/python3.6/dist-packages/seaborn/distributions.py:2557: FutureWarning: `distplot` is a deprecated function and will be removed in a future version. Please adapt your code to use either `displot` (a figure-level function with similar flexibility) or `histplot` (an axes-level function for histograms).\n",
            "  warnings.warn(msg, FutureWarning)\n"
          ],
          "name": "stderr"
        },
        {
          "output_type": "execute_result",
          "data": {
            "text/plain": [
              "Text(0.5, 1.0, 'Distribuição do Custo')"
            ]
          },
          "metadata": {
            "tags": []
          },
          "execution_count": 125
        },
        {
          "output_type": "display_data",
          "data": {
            "image/png": "[encoded data removed]",
            "text/plain": [
              "<Figure size 1296x432 with 1 Axes>"
            ]
          },
          "metadata": {
            "tags": [],
            "needs_background": "light"
          }
        }
      ]
    },
    {
      "cell_type": "code",
      "metadata": {
        "colab": {
          "base_uri": "https://localhost:8080/",
          "height": 0
        },
        "id": "jJZdrKuuukfl",
        "outputId": "765aae89-8777-4953-ac13-77c2369e9761"
      },
      "source": [
        "df2.shape"
      ],
      "execution_count": 174,
      "outputs": [
        {
          "output_type": "execute_result",
          "data": {
            "text/plain": [
              "(9205, 3)"
            ]
          },
          "metadata": {
            "tags": []
          },
          "execution_count": 174
        }
      ]
    },
    {
      "cell_type": "code",
      "metadata": {
        "colab": {
          "base_uri": "https://localhost:8080/",
          "height": 0
        },
        "id": "Omm1Uox4y9MF",
        "outputId": "773b6501-9d21-429e-a39b-5ebb7d8196ac"
      },
      "source": [
        "X = df2.drop(['Custo'], axis = 1)\n",
        "y = df2\n",
        "print('Shape of X: ', X.shape)\n",
        "print('Shape of y: ', y.shape)"
      ],
      "execution_count": 205,
      "outputs": [
        {
          "output_type": "stream",
          "text": [
            "Shape of X:  (9205, 2)\n",
            "Shape of y:  (9205, 3)\n"
          ],
          "name": "stdout"
        }
      ]
    },
    {
      "cell_type": "code",
      "metadata": {
        "colab": {
          "base_uri": "https://localhost:8080/",
          "height": 0
        },
        "id": "G1KW05KHlaoC",
        "outputId": "76a3acd9-c128-4e70-dee2-855bcc09e151"
      },
      "source": [
        "from sklearn.model_selection import train_test_split\n",
        "from sklearn.linear_model import LinearRegression\n",
        "\n",
        "#X_train, X_test, y_train, y_test = train_test_split(X, y, random_state = 0)\n",
        "\n",
        "X_train,X_test,y_train,y_test = train_test_split(\n",
        "    X, \n",
        "    y,\n",
        "    test_size = 0.3, \n",
        "    random_state = 42\n",
        ")\n",
        "\n",
        "\n",
        "lr = LinearRegression().fit(X_train, y_train)\n",
        "\n",
        "y_train_pred = lr.predict(X_train)\n",
        "y_test_pred = lr.predict(X_test)\n",
        "\n",
        "print(lr.score(X_test, y_test))"
      ],
      "execution_count": 206,
      "outputs": [
        {
          "output_type": "stream",
          "text": [
            "0.9996900059653185\n"
          ],
          "name": "stdout"
        },
        {
          "output_type": "stream",
          "text": [
            "/usr/local/lib/python3.6/dist-packages/sklearn/base.py:434: FutureWarning: The default value of multioutput (not exposed in score method) will change from 'variance_weighted' to 'uniform_average' in 0.23 to keep consistent with 'metrics.r2_score'. To specify the default value manually and avoid the warning, please either call 'metrics.r2_score' directly or make a custom scorer with 'metrics.make_scorer' (the built-in scorer 'r2' uses multioutput='uniform_average').\n",
            "  \"multioutput='uniform_average').\", FutureWarning)\n"
          ],
          "name": "stderr"
        }
      ]
    },
    {
      "cell_type": "code",
      "metadata": {
        "colab": {
          "base_uri": "https://localhost:8080/",
          "height": 80
        },
        "id": "pbho6BrRz9qJ",
        "outputId": "880e2cf4-f4ea-47a9-fbc2-563347b3bf26"
      },
      "source": [
        "#df2['index'] = df2.index\n",
        "results = pd.DataFrame({'Actual': [y_test], 'Predicted': [y_test_pred]})\n",
        "results"
      ],
      "execution_count": 208,
      "outputs": [
        {
          "output_type": "execute_result",
          "data": {
            "text/html": [
              "<div>\n",
              "<style scoped>\n",
              "    .dataframe tbody tr th:only-of-type {\n",
              "        vertical-align: middle;\n",
              "    }\n",
              "\n",
              "    .dataframe tbody tr th {\n",
              "        vertical-align: top;\n",
              "    }\n",
              "\n",
              "    .dataframe thead th {\n",
              "        text-align: right;\n",
              "    }\n",
              "</style>\n",
              "<table border=\"1\" class=\"dataframe\">\n",
              "  <thead>\n",
              "    <tr style=\"text-align: right;\">\n",
              "      <th></th>\n",
              "      <th>Actual</th>\n",
              "      <th>Predicted</th>\n",
              "    </tr>\n",
              "  </thead>\n",
              "  <tbody>\n",
              "    <tr>\n",
              "      <th>0</th>\n",
              "      <td>Valor Garantia  Prazo        Custo\n",
              "248  ...</td>\n",
              "      <td>[[8818.400390625091, 366.0, 1200.9234181460963...</td>\n",
              "    </tr>\n",
              "  </tbody>\n",
              "</table>\n",
              "</div>"
            ],
            "text/plain": [
              "                                              Actual                                          Predicted\n",
              "0        Valor Garantia  Prazo        Custo\n",
              "248  ...  [[8818.400390625091, 366.0, 1200.9234181460963..."
            ]
          },
          "metadata": {
            "tags": []
          },
          "execution_count": 208
        }
      ]
    },
    {
      "cell_type": "code",
      "metadata": {
        "colab": {
          "base_uri": "https://localhost:8080/",
          "height": 0
        },
        "id": "zSC1eFe7ynFM",
        "outputId": "9043bf5f-6266-445b-b98f-d0a5b4c3f1e6"
      },
      "source": [
        "#X_train.head()\n",
        "X_train_registro = X_train.iloc[-2:]\n",
        "X_train_registro.shape\n"
      ],
      "execution_count": 213,
      "outputs": [
        {
          "output_type": "execute_result",
          "data": {
            "text/plain": [
              "(2, 2)"
            ]
          },
          "metadata": {
            "tags": []
          },
          "execution_count": 213
        }
      ]
    },
    {
      "cell_type": "code",
      "metadata": {
        "colab": {
          "base_uri": "https://localhost:8080/",
          "height": 0
        },
        "id": "5WoApYomTRiX",
        "outputId": "ef3dc6d5-2685-47ac-c128-8468e204d4e4"
      },
      "source": [
        "X_train_registro.head"
      ],
      "execution_count": 214,
      "outputs": [
        {
          "output_type": "execute_result",
          "data": {
            "text/plain": [
              "<bound method NDFrame.head of       Valor Garantia  Prazo\n",
              "860          20000.0     90\n",
              "7270       2815176.0    731>"
            ]
          },
          "metadata": {
            "tags": []
          },
          "execution_count": 214
        }
      ]
    },
    {
      "cell_type": "code",
      "metadata": {
        "id": "i_nVL24YRSQP"
      },
      "source": [
        "# Normalize the data registro unico para testar o modelo\n",
        "###\n",
        "###\n",
        "\n",
        "from sklearn.preprocessing import StandardScaler\n",
        "\n",
        "sc = StandardScaler()\n",
        "X_train_registro = sc.fit_transform(X_train_registro)\n"
      ],
      "execution_count": 211,
      "outputs": []
    },
    {
      "cell_type": "code",
      "metadata": {
        "id": "Yy2nkWCXrtLi"
      },
      "source": [
        "# Normalize the data\n",
        "from sklearn.preprocessing import StandardScaler\n",
        "\n",
        "sc = StandardScaler()\n",
        "X_train = sc.fit_transform(X_train)\n",
        "X_test = sc.transform(X_test)"
      ],
      "execution_count": 218,
      "outputs": []
    },
    {
      "cell_type": "code",
      "metadata": {
        "colab": {
          "base_uri": "https://localhost:8080/",
          "height": 111
        },
        "id": "JFcnZemmr0t_",
        "outputId": "c0153629-fb6b-438a-c36c-935742b07710"
      },
      "source": [
        "pd.DataFrame(X_train_registro).head()"
      ],
      "execution_count": 216,
      "outputs": [
        {
          "output_type": "execute_result",
          "data": {
            "text/html": [
              "<div>\n",
              "<style scoped>\n",
              "    .dataframe tbody tr th:only-of-type {\n",
              "        vertical-align: middle;\n",
              "    }\n",
              "\n",
              "    .dataframe tbody tr th {\n",
              "        vertical-align: top;\n",
              "    }\n",
              "\n",
              "    .dataframe thead th {\n",
              "        text-align: right;\n",
              "    }\n",
              "</style>\n",
              "<table border=\"1\" class=\"dataframe\">\n",
              "  <thead>\n",
              "    <tr style=\"text-align: right;\">\n",
              "      <th></th>\n",
              "      <th>Valor Garantia</th>\n",
              "      <th>Prazo</th>\n",
              "    </tr>\n",
              "  </thead>\n",
              "  <tbody>\n",
              "    <tr>\n",
              "      <th>860</th>\n",
              "      <td>20000.0</td>\n",
              "      <td>90</td>\n",
              "    </tr>\n",
              "    <tr>\n",
              "      <th>7270</th>\n",
              "      <td>2815176.0</td>\n",
              "      <td>731</td>\n",
              "    </tr>\n",
              "  </tbody>\n",
              "</table>\n",
              "</div>"
            ],
            "text/plain": [
              "      Valor Garantia  Prazo\n",
              "860          20000.0     90\n",
              "7270       2815176.0    731"
            ]
          },
          "metadata": {
            "tags": []
          },
          "execution_count": 216
        }
      ]
    },
    {
      "cell_type": "code",
      "metadata": {
        "colab": {
          "base_uri": "https://localhost:8080/",
          "height": 204
        },
        "id": "iLi86Y7Zr91y",
        "outputId": "a5b0cb80-6d6f-4f4a-ada5-252453a934c2"
      },
      "source": [
        "pd.DataFrame(y_train).head()"
      ],
      "execution_count": 219,
      "outputs": [
        {
          "output_type": "execute_result",
          "data": {
            "text/html": [
              "<div>\n",
              "<style scoped>\n",
              "    .dataframe tbody tr th:only-of-type {\n",
              "        vertical-align: middle;\n",
              "    }\n",
              "\n",
              "    .dataframe tbody tr th {\n",
              "        vertical-align: top;\n",
              "    }\n",
              "\n",
              "    .dataframe thead th {\n",
              "        text-align: right;\n",
              "    }\n",
              "</style>\n",
              "<table border=\"1\" class=\"dataframe\">\n",
              "  <thead>\n",
              "    <tr style=\"text-align: right;\">\n",
              "      <th></th>\n",
              "      <th>Valor Garantia</th>\n",
              "      <th>Prazo</th>\n",
              "      <th>Custo</th>\n",
              "    </tr>\n",
              "  </thead>\n",
              "  <tbody>\n",
              "    <tr>\n",
              "      <th>8448</th>\n",
              "      <td>5.550000e+04</td>\n",
              "      <td>213</td>\n",
              "      <td>423.880005</td>\n",
              "    </tr>\n",
              "    <tr>\n",
              "      <th>4233</th>\n",
              "      <td>2.663482e+04</td>\n",
              "      <td>210</td>\n",
              "      <td>578.169983</td>\n",
              "    </tr>\n",
              "    <tr>\n",
              "      <th>6337</th>\n",
              "      <td>1.171646e+06</td>\n",
              "      <td>730</td>\n",
              "      <td>18746.330078</td>\n",
              "    </tr>\n",
              "    <tr>\n",
              "      <th>7852</th>\n",
              "      <td>1.809590e+03</td>\n",
              "      <td>182</td>\n",
              "      <td>290.000000</td>\n",
              "    </tr>\n",
              "    <tr>\n",
              "      <th>3080</th>\n",
              "      <td>9.292410e+03</td>\n",
              "      <td>457</td>\n",
              "      <td>390.000000</td>\n",
              "    </tr>\n",
              "  </tbody>\n",
              "</table>\n",
              "</div>"
            ],
            "text/plain": [
              "      Valor Garantia  Prazo         Custo\n",
              "8448    5.550000e+04    213    423.880005\n",
              "4233    2.663482e+04    210    578.169983\n",
              "6337    1.171646e+06    730  18746.330078\n",
              "7852    1.809590e+03    182    290.000000\n",
              "3080    9.292410e+03    457    390.000000"
            ]
          },
          "metadata": {
            "tags": []
          },
          "execution_count": 219
        }
      ]
    },
    {
      "cell_type": "code",
      "metadata": {
        "id": "wq7wpBu8sI1n"
      },
      "source": [
        "def model_summary(model, model_name, cvn=20): # Default value for cvn = 20\n",
        "    print(model_name)\n",
        "    y_pred_model_train = model.predict(X_train)\n",
        "    y_pred_model_test = model.predict(X_test)\n",
        "    accuracy_model_train = r2_score(y_train, y_pred_model_train)\n",
        "    print(\"Training Accuracy: \", accuracy_model_train)\n",
        "    accuracy_model_test = r2_score(y_test, y_pred_model_test)\n",
        "    print(\"Testing Accuracy: \", accuracy_model_test)\n",
        "    RMSE_model_train = sqrt(mean_squared_error(y_train, y_pred_model_train))\n",
        "    print(\"RMSE for Training Data: \", RMSE_model_train)\n",
        "    RMSE_model_test = sqrt(mean_squared_error(y_test, y_pred_model_test))\n",
        "    print(\"RMSE for Testing Data: \", RMSE_model_test)\n",
        "#     if model == polynomial_reg:\n",
        "#         polynomial_features = PolynomialFeatures(degree=3)\n",
        "#         y_pred_cv_PR = cross_val_predict(model, polynomial_features.fit_transform(X), y, cv=20)\n",
        "#     else:\n",
        "    y_pred_cv_model = cross_val_predict(model, X, y, cv=cvn)\n",
        "    accuracy_cv_model = r2_score(y, y_pred_cv_model)\n",
        "    print(\"Accuracy for\", cvn,\"- Fold Cross Predicted: \", accuracy_cv_model)"
      ],
      "execution_count": 220,
      "outputs": []
    },
    {
      "cell_type": "code",
      "metadata": {
        "id": "xsx8CTp7sKc7"
      },
      "source": [
        "from math import sqrt \n",
        "from sklearn.model_selection import cross_val_predict  \n",
        "from sklearn.metrics import r2_score, mean_squared_error  "
      ],
      "execution_count": 221,
      "outputs": []
    },
    {
      "cell_type": "code",
      "metadata": {
        "colab": {
          "base_uri": "https://localhost:8080/",
          "height": 0
        },
        "id": "J4S18VCvsOCF",
        "outputId": "fdb48b00-2a5c-450f-a969-0ecefce8c2fa"
      },
      "source": [
        "from sklearn.linear_model import LinearRegression  \n",
        "\n",
        "multiple_linear_reg = LinearRegression(fit_intercept=False)  \n",
        "multiple_linear_reg.fit(X_train, y_train)  \n",
        "model_summary(multiple_linear_reg, \"Multiple_linear_Regression\")"
      ],
      "execution_count": 222,
      "outputs": [
        {
          "output_type": "stream",
          "text": [
            "Multiple_linear_Regression\n",
            "Training Accuracy:  0.24372809539231377\n",
            "Testing Accuracy:  0.08971228465533769\n",
            "RMSE for Training Data:  53713.83311021734\n",
            "RMSE for Testing Data:  53838.00747551873\n",
            "Accuracy for 20 - Fold Cross Predicted:  0.7993026044620012\n"
          ],
          "name": "stdout"
        }
      ]
    },
    {
      "cell_type": "code",
      "metadata": {
        "colab": {
          "base_uri": "https://localhost:8080/",
          "height": 0
        },
        "id": "iDbjtpyItG7l",
        "outputId": "bc4e4ed9-e31e-4334-8b6a-cbf23e737cf1"
      },
      "source": [
        "y_train.shape"
      ],
      "execution_count": 223,
      "outputs": [
        {
          "output_type": "execute_result",
          "data": {
            "text/plain": [
              "(6443, 3)"
            ]
          },
          "metadata": {
            "tags": []
          },
          "execution_count": 223
        }
      ]
    },
    {
      "cell_type": "code",
      "metadata": {
        "colab": {
          "base_uri": "https://localhost:8080/",
          "height": 0
        },
        "id": "-KFBtrKPiLqN",
        "outputId": "11adb39e-0266-4b68-a9be-4f5ed5a8d371"
      },
      "source": [
        "Y_pred = multiple_linear_reg.predict(X_train_registro)\n",
        "print(Y_pred)"
      ],
      "execution_count": 232,
      "outputs": [
        {
          "output_type": "stream",
          "text": [
            "[[7.65623540e+09 2.15827790e+04 8.43818883e+07]\n",
            " [1.07768251e+12 1.75300127e+05 1.18629417e+10]]\n"
          ],
          "name": "stdout"
        }
      ]
    },
    {
      "cell_type": "code",
      "metadata": {
        "colab": {
          "base_uri": "https://localhost:8080/",
          "height": 0
        },
        "id": "dsqdWvogu6gA",
        "outputId": "6bd4823b-753a-44c1-dc46-8a0d765841e3"
      },
      "source": [
        "from sklearn.preprocessing import PolynomialFeatures\n",
        "\n",
        "polynomial_features = PolynomialFeatures(degree=3)  \n",
        "x_train_poly = polynomial_features.fit_transform(X_train)  \n",
        "x_test_poly = polynomial_features.fit_transform(X_test) \n",
        "\n",
        "polynomial_reg = LinearRegression(fit_intercept=False)  \n",
        "polynomial_reg.fit(x_train_poly, y_train)  \n",
        "print(\"PolynomialFeatures\")\n",
        "y_pred_PR_train = polynomial_reg.predict(x_train_poly)\n",
        "y_pred_PR_test = polynomial_reg.predict(x_test_poly)\n",
        "accuracy_PR_train = r2_score(y_train, y_pred_PR_train)\n",
        "print(\"Training Accuracy: \", accuracy_PR_train)\n",
        "accuracy_PR_test = r2_score(y_test, y_pred_PR_test)\n",
        "print(\"Testing Accuracy: \", accuracy_PR_test)\n",
        "RMSE_PR_train = sqrt(mean_squared_error(y_train, y_pred_PR_train))\n",
        "print(\"RMSE for Training Data: \", RMSE_PR_train)\n",
        "RMSE_PR_test = sqrt(mean_squared_error(y_test, y_pred_PR_test))\n",
        "print(\"RMSE for Testing Data: \", RMSE_PR_test)\n",
        "y_pred_cv_PR = cross_val_predict(polynomial_reg, polynomial_features.fit_transform(X), y, cv=20)\n",
        "accuracy_cv_PR = r2_score(y, y_pred_cv_PR)\n",
        "print(\"Accuracy for 20-Fold Cross Predicted: \", accuracy_cv_PR)"
      ],
      "execution_count": 224,
      "outputs": [
        {
          "output_type": "stream",
          "text": [
            "PolynomialFeatures\n",
            "Training Accuracy:  0.936765551008456\n",
            "Testing Accuracy:  0.8537570968969734\n",
            "RMSE for Training Data:  1571.2937715086518\n",
            "RMSE for Testing Data:  3364.859613622507\n",
            "Accuracy for 20-Fold Cross Predicted:  -2.6297565016221367\n"
          ],
          "name": "stdout"
        }
      ]
    },
    {
      "cell_type": "code",
      "metadata": {
        "colab": {
          "base_uri": "https://localhost:8080/",
          "height": 111
        },
        "id": "9zqiEN-svX-J",
        "outputId": "ae643b0a-3b53-49fa-e13f-ae3c2db3c917"
      },
      "source": [
        "pd.DataFrame(X_train_registro).head()"
      ],
      "execution_count": 227,
      "outputs": [
        {
          "output_type": "execute_result",
          "data": {
            "text/html": [
              "<div>\n",
              "<style scoped>\n",
              "    .dataframe tbody tr th:only-of-type {\n",
              "        vertical-align: middle;\n",
              "    }\n",
              "\n",
              "    .dataframe tbody tr th {\n",
              "        vertical-align: top;\n",
              "    }\n",
              "\n",
              "    .dataframe thead th {\n",
              "        text-align: right;\n",
              "    }\n",
              "</style>\n",
              "<table border=\"1\" class=\"dataframe\">\n",
              "  <thead>\n",
              "    <tr style=\"text-align: right;\">\n",
              "      <th></th>\n",
              "      <th>Valor Garantia</th>\n",
              "      <th>Prazo</th>\n",
              "    </tr>\n",
              "  </thead>\n",
              "  <tbody>\n",
              "    <tr>\n",
              "      <th>860</th>\n",
              "      <td>20000.0</td>\n",
              "      <td>90</td>\n",
              "    </tr>\n",
              "    <tr>\n",
              "      <th>7270</th>\n",
              "      <td>2815176.0</td>\n",
              "      <td>731</td>\n",
              "    </tr>\n",
              "  </tbody>\n",
              "</table>\n",
              "</div>"
            ],
            "text/plain": [
              "      Valor Garantia  Prazo\n",
              "860          20000.0     90\n",
              "7270       2815176.0    731"
            ]
          },
          "metadata": {
            "tags": []
          },
          "execution_count": 227
        }
      ]
    },
    {
      "cell_type": "code",
      "metadata": {
        "colab": {
          "base_uri": "https://localhost:8080/",
          "height": 0
        },
        "id": "D6xN7nSOa_Y6",
        "outputId": "a56efd61-24a8-4c57-955f-50239490d1c8"
      },
      "source": [
        "X_train_registro.shape"
      ],
      "execution_count": 228,
      "outputs": [
        {
          "output_type": "execute_result",
          "data": {
            "text/plain": [
              "(2, 2)"
            ]
          },
          "metadata": {
            "tags": []
          },
          "execution_count": 228
        }
      ]
    },
    {
      "cell_type": "code",
      "metadata": {
        "colab": {
          "base_uri": "https://localhost:8080/",
          "height": 0
        },
        "id": "aUcWCNdSvFd1",
        "outputId": "488abd2d-185f-42a2-a08b-98b2a1c3c9be"
      },
      "source": [
        "from sklearn.tree import DecisionTreeRegressor\n",
        "\n",
        "decision_tree_reg = DecisionTreeRegressor(max_depth=5, random_state=13)  \n",
        "decision_tree_reg.fit(X_train, y_train) \n",
        "model_summary(decision_tree_reg, \"Decision_Tree_Regression\")"
      ],
      "execution_count": 52,
      "outputs": [
        {
          "output_type": "stream",
          "text": [
            "Decision_Tree_Regression\n",
            "Training Accuracy:  0.5986080409469617\n",
            "Testing Accuracy:  0.47071020777768896\n",
            "RMSE for Training Data:  8620.253431465353\n",
            "RMSE for Testing Data:  11078.310754673133\n",
            "Accuracy for 20 - Fold Cross Predicted:  0.5201237136938136\n"
          ],
          "name": "stdout"
        }
      ]
    },
    {
      "cell_type": "code",
      "metadata": {
        "colab": {
          "base_uri": "https://localhost:8080/",
          "height": 1578
        },
        "id": "Dq77H_3SvR0r",
        "outputId": "1e984e76-c86d-4a3d-c1fb-5fa5415f2bc4"
      },
      "source": [
        "import sklearn\n",
        "from sklearn import tree\n",
        "fig, ax = plt.subplots(figsize=(10, 10))\n",
        "sklearn.tree.plot_tree(decision_tree_reg)"
      ],
      "execution_count": 53,
      "outputs": [
        {
          "output_type": "execute_result",
          "data": {
            "text/plain": [
              "[Text(299.0974576271186, 498.3, 'X[0] <= 2.731\\nmse = 48861317749.644\\nsamples = 6443\\nvalue = [[92921.314]\\n[309.947]\\n[1841.711]]'),\n",
              " Text(151.32203389830508, 407.70000000000005, 'X[0] <= 0.441\\nmse = 4000241638.232\\nsamples = 6303\\nvalue = [[45562.648]\\n[303.001]\\n[1205.247]]'),\n",
              " Text(75.66101694915254, 317.1, 'X[0] <= -0.041\\nmse = 582924074.19\\nsamples = 6058\\nvalue = [[27230.588]\\n[294.449]\\n[896.771]]'),\n",
              " Text(37.83050847457627, 226.5, 'X[0] <= -0.17\\nmse = 98448459.514\\nsamples = 5496\\nvalue = [[15869.415]\\n[288.174]\\n[639.918]]'),\n",
              " Text(18.915254237288135, 135.89999999999998, 'X[0] <= -0.213\\nmse = 16265081.558\\nsamples = 4462\\nvalue = [[8727.423]\\n[280.581]\\n[459.431]]'),\n",
              " Text(9.457627118644067, 45.299999999999955, 'mse = 3167003.214\\nsamples = 3112\\nvalue = [[4773.414]\\n[273.1]\\n[365.148]]'),\n",
              " Text(28.3728813559322, 45.299999999999955, 'mse = 6729902.758\\nsamples = 1350\\nvalue = [[17842.146]\\n[297.824]\\n[676.771]]'),\n",
              " Text(56.7457627118644, 135.89999999999998, 'X[0] <= -0.116\\nmse = 62853936.401\\nsamples = 1034\\nvalue = [[46689.116]\\n[320.941]\\n[1418.769]]'),\n",
              " Text(47.28813559322034, 45.299999999999955, 'mse = 12002078.611\\nsamples = 589\\nvalue = [[36555.136]\\n[310.457]\\n[1136.505]]'),\n",
              " Text(66.20338983050847, 45.299999999999955, 'mse = 24797298.939\\nsamples = 445\\nvalue = [[60102.407]\\n[334.818]\\n[1792.371]]'),\n",
              " Text(113.4915254237288, 226.5, 'X[0] <= 0.164\\nmse = 782931875.034\\nsamples = 562\\nvalue = [[138335.576]\\n[355.819]\\n[3408.634]]'),\n",
              " Text(94.57627118644068, 135.89999999999998, 'X[0] <= 0.053\\nmse = 161216842.782\\nsamples = 388\\nvalue = [[110367.396]\\n[336.534]\\n[2795.384]]'),\n",
              " Text(85.11864406779661, 45.299999999999955, 'mse = 31704655.513\\nsamples = 224\\nvalue = [[93925.643]\\n[344.286]\\n[2600.553]]'),\n",
              " Text(104.03389830508475, 45.299999999999955, 'mse = 46886900.29\\nsamples = 164\\nvalue = [[132824.425]\\n[325.945]\\n[3061.494]]'),\n",
              " Text(132.40677966101694, 135.89999999999998, 'X[0] <= 0.299\\nmse = 290462892.446\\nsamples = 174\\nvalue = [[200701.402]\\n[398.822]\\n[4776.112]]'),\n",
              " Text(122.94915254237287, 45.299999999999955, 'mse = 78931384.645\\nsamples = 107\\nvalue = [[180581.68]\\n[400.57]\\n[4409.18]]'),\n",
              " Text(141.864406779661, 45.299999999999955, 'mse = 68459137.757\\nsamples = 67\\nvalue = [[232832.897]\\n[396.03]\\n[5362.107]]'),\n",
              " Text(226.9830508474576, 317.1, 'X[0] <= 1.546\\nmse = 17218476277.18\\nsamples = 245\\nvalue = [[498850.892]\\n[514.453]\\n[8832.78]]'),\n",
              " Text(189.15254237288136, 226.5, 'X[0] <= 0.902\\nmse = 3982098818.204\\nsamples = 206\\nvalue = [[412691.16]\\n[483.718]\\n[7230.862]]'),\n",
              " Text(170.23728813559322, 135.89999999999998, 'X[0] <= 0.685\\nmse = 852177994.503\\nsamples = 130\\nvalue = [[340693.261]\\n[511.192]\\n[6980.127]]'),\n",
              " Text(160.77966101694915, 45.299999999999955, 'mse = 211559513.853\\nsamples = 84\\nvalue = [[307881.214]\\n[493.143]\\n[6088.16]]'),\n",
              " Text(179.6949152542373, 45.299999999999955, 'mse = 168585257.418\\nsamples = 46\\nvalue = [[400610.913]\\n[544.152]\\n[8608.937]]'),\n",
              " Text(208.0677966101695, 135.89999999999998, 'X[0] <= 1.186\\nmse = 1324534965.507\\nsamples = 76\\nvalue = [[535845.46]\\n[436.724]\\n[7659.751]]'),\n",
              " Text(198.61016949152543, 45.299999999999955, 'mse = 214554277.088\\nsamples = 46\\nvalue = [[491686.874]\\n[419.565]\\n[6588.108]]'),\n",
              " Text(217.52542372881356, 45.299999999999955, 'mse = 500154053.624\\nsamples = 30\\nvalue = [[603555.292]\\n[463.033]\\n[9302.938]]'),\n",
              " Text(264.8135593220339, 226.5, 'X[0] <= 2.079\\nmse = 4996164923.33\\nsamples = 39\\nvalue = [[953951.014]\\n[676.795]\\n[17294.194]]'),\n",
              " Text(245.89830508474574, 135.89999999999998, 'X[0] <= 1.745\\nmse = 1469214880.768\\nsamples = 9\\nvalue = [[762018.368]\\n[683.667]\\n[14692.875]]'),\n",
              " Text(236.44067796610167, 45.299999999999955, 'mse = 128872243.763\\nsamples = 5\\nvalue = [[709529.338]\\n[666.6]\\n[13078.538]]'),\n",
              " Text(255.3559322033898, 45.299999999999955, 'mse = 559295018.707\\nsamples = 4\\nvalue = [[827629.656]\\n[705.0]\\n[16710.795]]'),\n",
              " Text(283.728813559322, 135.89999999999998, 'X[0] <= 2.351\\nmse = 1264411941.453\\nsamples = 30\\nvalue = [[1011530.808]\\n[674.733]\\n[18074.59]]'),\n",
              " Text(274.271186440678, 45.299999999999955, 'mse = 279244496.36\\nsamples = 9\\nvalue = [[934195.118]\\n[710.667]\\n[15510.427]]'),\n",
              " Text(293.1864406779661, 45.299999999999955, 'mse = 464711210.966\\nsamples = 21\\nvalue = [[1044674.676]\\n[659.333]\\n[19173.517]]'),\n",
              " Text(446.8728813559322, 407.70000000000005, 'X[0] <= 11.443\\nmse = 519271169891.247\\nsamples = 140\\nvalue = [[2225076.144]\\n[622.65]\\n[30496.224]]'),\n",
              " Text(378.3050847457627, 317.1, 'X[0] <= 5.653\\nmse = 157492177725.623\\nsamples = 134\\nvalue = [[2026630.508]\\n[637.433]\\n[31153.239]]'),\n",
              " Text(340.47457627118644, 226.5, 'X[0] <= 3.922\\nmse = 36886273481.872\\nsamples = 92\\nvalue = [[1639056.798]\\n[626.141]\\n[24410.42]]'),\n",
              " Text(321.5593220338983, 135.89999999999998, 'X[0] <= 3.179\\nmse = 4876801538.216\\nsamples = 44\\nvalue = [[1335461.562]\\n[592.864]\\n[18144.625]]'),\n",
              " Text(312.1016949152542, 45.299999999999955, 'mse = 740694955.791\\nsamples = 18\\nvalue = [[1206439.292]\\n[645.889]\\n[19152.654]]'),\n",
              " Text(331.01694915254234, 45.299999999999955, 'mse = 1238765799.122\\nsamples = 26\\nvalue = [[1424784.673]\\n[556.154]\\n[17446.76]]'),\n",
              " Text(359.3898305084746, 135.89999999999998, 'X[0] <= 4.758\\nmse = 12226067225.639\\nsamples = 48\\nvalue = [[1917352.43]\\n[656.646]\\n[30154.064]]'),\n",
              " Text(349.9322033898305, 45.299999999999955, 'mse = 1878133992.044\\nsamples = 26\\nvalue = [[1761879.457]\\n[609.192]\\n[24916.905]]'),\n",
              " Text(368.8474576271186, 45.299999999999955, 'mse = 3656065656.829\\nsamples = 22\\nvalue = [[2101093.216]\\n[712.727]\\n[36343.434]]'),\n",
              " Text(416.135593220339, 226.5, 'X[0] <= 7.835\\nmse = 71640434561.749\\nsamples = 42\\nvalue = [[2875601.494]\\n[662.167]\\n[45923.226]]'),\n",
              " Text(397.22033898305085, 135.89999999999998, 'X[0] <= 6.566\\nmse = 13425338214.17\\nsamples = 30\\nvalue = [[2617062.708]\\n[639.8]\\n[35784.379]]'),\n",
              " Text(387.76271186440675, 45.299999999999955, 'mse = 3785115210.372\\nsamples = 15\\nvalue = [[2448174.483]\\n[706.267]\\n[35251.885]]'),\n",
              " Text(406.6779661016949, 45.299999999999955, 'mse = 4049880876.697\\nsamples = 15\\nvalue = [[2785950.933]\\n[573.333]\\n[36316.874]]'),\n",
              " Text(435.0508474576271, 135.89999999999998, 'X[0] <= 9.048\\nmse = 21921632524.03\\nsamples = 12\\nvalue = [[3521948.458]\\n[718.083]\\n[71270.342]]'),\n",
              " Text(425.59322033898303, 45.299999999999955, 'mse = 3535660248.881\\nsamples = 6\\nvalue = [[3295485.792]\\n[730.667]\\n[49477.809]]'),\n",
              " Text(444.50847457627117, 45.299999999999955, 'mse = 5800768766.896\\nsamples = 6\\nvalue = [[3748411.125]\\n[705.5]\\n[93062.875]]'),\n",
              " Text(515.4406779661017, 317.1, 'X[0] <= 19.189\\nmse = 1758358707931.547\\nsamples = 6\\nvalue = [[6657028.667]\\n[292.5]\\n[15822.887]]'),\n",
              " Text(491.7966101694915, 226.5, 'X[0] <= 12.909\\nmse = 439774710.864\\nsamples = 4\\nvalue = [[5033591.0]\\n[301.75]\\n[15179.768]]'),\n",
              " Text(472.88135593220335, 135.89999999999998, 'X[0] <= 12.813\\nmse = 3983883.123\\nsamples = 2\\nvalue = [[4997932.0]\\n[215.0]\\n[8777.03]]'),\n",
              " Text(463.4237288135593, 45.299999999999955, 'mse = -0.0\\nsamples = 1\\nvalue = [[4995864.0]\\n[65.0]\\n[6010.71]]'),\n",
              " Text(482.33898305084745, 45.299999999999955, 'mse = -0.0\\nsamples = 1\\nvalue = [[5000000.0]\\n[365.0]\\n[11543.35]]'),\n",
              " Text(510.7118644067796, 135.89999999999998, 'X[1] <= 0.328\\nmse = 520964.649\\nsamples = 2\\nvalue = [[5069250.0]\\n[388.5]\\n[21582.506]]'),\n",
              " Text(501.2542372881356, 45.299999999999955, 'mse = 0.0\\nsamples = 1\\nvalue = [[5069250.0]\\n[366.0]\\n[20332.551]]'),\n",
              " Text(520.1694915254237, 45.299999999999955, 'mse = -0.001\\nsamples = 1\\nvalue = [[5069250.0]\\n[411.0]\\n[22832.461]]'),\n",
              " Text(539.0847457627118, 226.5, 'X[1] <= -0.15\\nmse = 3096031893.339\\nsamples = 2\\nvalue = [[9903904.0]\\n[274.0]\\n[17109.125]]'),\n",
              " Text(529.6271186440678, 135.89999999999998, 'mse = 0.001\\nsamples = 1\\nvalue = [[9807808.0]\\n[183.0]\\n[9784.77]]'),\n",
              " Text(548.542372881356, 135.89999999999998, 'mse = -0.001\\nsamples = 1\\nvalue = [[10000000.0]\\n[365.0]\\n[24433.48]]')]"
            ]
          },
          "metadata": {
            "tags": []
          },
          "execution_count": 53
        },
        {
          "output_type": "display_data",
          "data": {
            "image/png": "[encoded data removed]",
            "text/plain": [
              "<Figure size 720x720 with 1 Axes>"
            ]
          },
          "metadata": {
            "tags": [],
            "needs_background": "light"
          }
        }
      ]
    },
    {
      "cell_type": "code",
      "metadata": {
        "colab": {
          "base_uri": "https://localhost:8080/",
          "height": 0
        },
        "id": "AogQ0aeCvb1M",
        "outputId": "cdf61cff-d0ef-483f-9ca6-eb3169dd4f87"
      },
      "source": [
        "from sklearn.ensemble import RandomForestRegressor  \n",
        "\n",
        "random_forest_reg = RandomForestRegressor(n_estimators=400, max_depth=5, random_state=13)  \n",
        "random_forest_reg.fit(X_train, y_train) \n",
        "model_summary(random_forest_reg, \"Random_Forest_Regression\")"
      ],
      "execution_count": 54,
      "outputs": [
        {
          "output_type": "stream",
          "text": [
            "Random_Forest_Regression\n",
            "Training Accuracy:  0.6045407378859848\n",
            "Testing Accuracy:  0.4726021952775588\n",
            "RMSE for Training Data:  10200.126733344348\n",
            "RMSE for Testing Data:  16497.465921902032\n",
            "Accuracy for 20 - Fold Cross Predicted:  0.5293906952325584\n"
          ],
          "name": "stdout"
        }
      ]
    },
    {
      "cell_type": "code",
      "metadata": {
        "id": "Zp9gj-5Ct_x5"
      },
      "source": [
        ""
      ],
      "execution_count": null,
      "outputs": []
    }
  ]
}